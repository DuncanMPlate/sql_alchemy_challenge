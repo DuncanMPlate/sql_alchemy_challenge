{
 "cells": [
  {
   "cell_type": "code",
   "execution_count": 2,
   "source": [
    "%matplotlib inline\r\n",
    "from matplotlib import style\r\n",
    "style.use('fivethirtyeight')\r\n",
    "import matplotlib.pyplot as plt"
   ],
   "outputs": [],
   "metadata": {}
  },
  {
   "cell_type": "code",
   "execution_count": 3,
   "source": [
    "import numpy as np\r\n",
    "import pandas as pd\r\n",
    "import datetime as dt"
   ],
   "outputs": [],
   "metadata": {}
  },
  {
   "cell_type": "markdown",
   "source": [
    "# Reflect Tables into SQLAlchemy ORM"
   ],
   "metadata": {}
  },
  {
   "cell_type": "code",
   "execution_count": 4,
   "source": [
    "# Python SQL toolkit and Object Relational Mapper\r\n",
    "import sqlalchemy\r\n",
    "from sqlalchemy.ext.automap import automap_base\r\n",
    "from sqlalchemy.orm import Session\r\n",
    "from sqlalchemy import create_engine, func"
   ],
   "outputs": [],
   "metadata": {}
  },
  {
   "cell_type": "code",
   "execution_count": 5,
   "source": [
    "# create engine to hawaii.sqlite\r\n",
    "engine = create_engine(\"sqlite:///hawaii.sqlite\")"
   ],
   "outputs": [],
   "metadata": {}
  },
  {
   "cell_type": "code",
   "execution_count": 6,
   "source": [
    "Base = automap_base()\r\n",
    "Base.prepare(engine, reflect=True)"
   ],
   "outputs": [],
   "metadata": {}
  },
  {
   "cell_type": "code",
   "execution_count": 7,
   "source": [
    "\r\n",
    "Base.classes.keys()"
   ],
   "outputs": [
    {
     "output_type": "execute_result",
     "data": {
      "text/plain": [
       "['measurement', 'station']"
      ]
     },
     "metadata": {},
     "execution_count": 7
    }
   ],
   "metadata": {}
  },
  {
   "cell_type": "code",
   "execution_count": 8,
   "source": [
    "# reflect an existing database into a new model\r\n",
    "Measurement = Base.classes.measurement\r\n",
    "Station = Base.classes.station\r\n",
    "\r\n",
    "# reflect the tables\r\n",
    "\r\n"
   ],
   "outputs": [],
   "metadata": {}
  },
  {
   "cell_type": "code",
   "execution_count": 9,
   "source": [
    "\r\n",
    "session = Session(engine)"
   ],
   "outputs": [],
   "metadata": {}
  },
  {
   "cell_type": "code",
   "execution_count": 10,
   "source": [
    "first_row_station = session.query(Station).first()\r\n",
    "first_row_station.__dict__\r\n"
   ],
   "outputs": [
    {
     "output_type": "execute_result",
     "data": {
      "text/plain": [
       "{'_sa_instance_state': <sqlalchemy.orm.state.InstanceState at 0xd764640>,\n",
       " 'station': 'USC00519397',\n",
       " 'latitude': 21.2716,\n",
       " 'name': 'WAIKIKI 717.2, HI US',\n",
       " 'elevation': 3.0,\n",
       " 'id': 1,\n",
       " 'longitude': -157.8168}"
      ]
     },
     "metadata": {},
     "execution_count": 10
    }
   ],
   "metadata": {}
  },
  {
   "cell_type": "code",
   "execution_count": 11,
   "source": [
    "# View all of the classes that automap found\r\n",
    "first_row = session.query(Measurement).first()\r\n",
    "first_row.__dict__"
   ],
   "outputs": [
    {
     "output_type": "execute_result",
     "data": {
      "text/plain": [
       "{'_sa_instance_state': <sqlalchemy.orm.state.InstanceState at 0x629ff28>,\n",
       " 'date': '2010-01-01',\n",
       " 'station': 'USC00519397',\n",
       " 'prcp': 0.08,\n",
       " 'id': 1,\n",
       " 'tobs': 65.0}"
      ]
     },
     "metadata": {},
     "execution_count": 11
    }
   ],
   "metadata": {}
  },
  {
   "cell_type": "code",
   "execution_count": 12,
   "source": [
    "# Save references to each table\r\n",
    "\r\n"
   ],
   "outputs": [],
   "metadata": {}
  },
  {
   "cell_type": "code",
   "execution_count": 13,
   "source": [
    "# Create our session (link) from Python to the DB\r\n"
   ],
   "outputs": [],
   "metadata": {}
  },
  {
   "cell_type": "markdown",
   "source": [
    "# Exploratory Precipitation Analysis"
   ],
   "metadata": {}
  },
  {
   "cell_type": "code",
   "execution_count": 14,
   "source": [
    "# Find the most recent date in the data set."
   ],
   "outputs": [],
   "metadata": {}
  },
  {
   "cell_type": "code",
   "execution_count": 15,
   "source": [
    "results = session.query(Measurement.date, Measurement.prcp).\\\r\n",
    "\torder_by(Measurement.date.desc()).filter(Measurement.date >= '2016-08-23').all()"
   ],
   "outputs": [],
   "metadata": {}
  },
  {
   "cell_type": "code",
   "execution_count": 16,
   "source": [
    "results = pd.DataFrame(results, columns=('date', 'prcp'))\r\n",
    "results.set_index('date', inplace=True)\r\n",
    "results"
   ],
   "outputs": [
    {
     "output_type": "execute_result",
     "data": {
      "text/plain": [
       "            prcp\n",
       "date            \n",
       "2017-08-23  0.00\n",
       "2017-08-23  0.00\n",
       "2017-08-23  0.08\n",
       "2017-08-23  0.45\n",
       "2017-08-22  0.00\n",
       "...          ...\n",
       "2016-08-23  0.05\n",
       "2016-08-23   NaN\n",
       "2016-08-23  0.02\n",
       "2016-08-23  1.79\n",
       "2016-08-23  0.70\n",
       "\n",
       "[2230 rows x 1 columns]"
      ],
      "text/html": [
       "<div>\n",
       "<style scoped>\n",
       "    .dataframe tbody tr th:only-of-type {\n",
       "        vertical-align: middle;\n",
       "    }\n",
       "\n",
       "    .dataframe tbody tr th {\n",
       "        vertical-align: top;\n",
       "    }\n",
       "\n",
       "    .dataframe thead th {\n",
       "        text-align: right;\n",
       "    }\n",
       "</style>\n",
       "<table border=\"1\" class=\"dataframe\">\n",
       "  <thead>\n",
       "    <tr style=\"text-align: right;\">\n",
       "      <th></th>\n",
       "      <th>prcp</th>\n",
       "    </tr>\n",
       "    <tr>\n",
       "      <th>date</th>\n",
       "      <th></th>\n",
       "    </tr>\n",
       "  </thead>\n",
       "  <tbody>\n",
       "    <tr>\n",
       "      <th>2017-08-23</th>\n",
       "      <td>0.00</td>\n",
       "    </tr>\n",
       "    <tr>\n",
       "      <th>2017-08-23</th>\n",
       "      <td>0.00</td>\n",
       "    </tr>\n",
       "    <tr>\n",
       "      <th>2017-08-23</th>\n",
       "      <td>0.08</td>\n",
       "    </tr>\n",
       "    <tr>\n",
       "      <th>2017-08-23</th>\n",
       "      <td>0.45</td>\n",
       "    </tr>\n",
       "    <tr>\n",
       "      <th>2017-08-22</th>\n",
       "      <td>0.00</td>\n",
       "    </tr>\n",
       "    <tr>\n",
       "      <th>...</th>\n",
       "      <td>...</td>\n",
       "    </tr>\n",
       "    <tr>\n",
       "      <th>2016-08-23</th>\n",
       "      <td>0.05</td>\n",
       "    </tr>\n",
       "    <tr>\n",
       "      <th>2016-08-23</th>\n",
       "      <td>NaN</td>\n",
       "    </tr>\n",
       "    <tr>\n",
       "      <th>2016-08-23</th>\n",
       "      <td>0.02</td>\n",
       "    </tr>\n",
       "    <tr>\n",
       "      <th>2016-08-23</th>\n",
       "      <td>1.79</td>\n",
       "    </tr>\n",
       "    <tr>\n",
       "      <th>2016-08-23</th>\n",
       "      <td>0.70</td>\n",
       "    </tr>\n",
       "  </tbody>\n",
       "</table>\n",
       "<p>2230 rows × 1 columns</p>\n",
       "</div>"
      ]
     },
     "metadata": {},
     "execution_count": 16
    }
   ],
   "metadata": {}
  },
  {
   "cell_type": "code",
   "execution_count": 17,
   "source": [
    "# Design a query to retrieve the last 12 months of precipitation data and plot the results. \r\n",
    "# Starting from the most recent data point in the database. \r\n",
    "\r\n",
    "# Calculate the date one year from the last date in data set.\r\n",
    "\r\n",
    "\r\n",
    "# Perform a query to retrieve the data and precipitation scores\r\n",
    "\r\n",
    "\r\n",
    "# Save the query results as a Pandas DataFrame and set the index to the date column\r\n",
    "\r\n",
    "\r\n",
    "# Sort the dataframe by date\r\n",
    "\r\n",
    "\r\n",
    "# Use Pandas Plotting with Matplotlib to plot the data\r\n",
    "\r\n",
    "\r\n"
   ],
   "outputs": [],
   "metadata": {}
  },
  {
   "cell_type": "code",
   "execution_count": null,
   "source": [],
   "outputs": [],
   "metadata": {}
  },
  {
   "cell_type": "code",
   "execution_count": 18,
   "source": [
    "#rain = results.date\r\n",
    "\r\n",
    "results.plot(kind='bar')\r\n",
    "plt.ylabel('Inches')\r\n",
    "plt.xlabel('Date')\r\n",
    "plt.xticks(rotation=90)\r\n",
    "#plt.tick_params(axis='x', which='major', labelsize=5)\r\n",
    "plt.title('Precipitation Of Hawaii')\r\n",
    "plt.tight_layout()\r\n",
    "plt.show()\r\n"
   ],
   "outputs": [
    {
     "output_type": "display_data",
     "data": {
      "text/plain": [
       "<Figure size 432x288 with 1 Axes>"
      ],
      "image/png": "[encoded data removed]"
     },
     "metadata": {}
    }
   ],
   "metadata": {}
  },
  {
   "cell_type": "code",
   "execution_count": 19,
   "source": [
    "# Use Pandas to calcualte the summary statistics for the precipitation\r\n",
    "summary_stas = results.agg({'prcp' : ['mean', 'median', 'std', 'var', 'sem']})\r\n",
    "summary_stas"
   ],
   "outputs": [
    {
     "output_type": "execute_result",
     "data": {
      "text/plain": [
       "            prcp\n",
       "mean    0.177279\n",
       "median  0.020000\n",
       "std     0.461190\n",
       "var     0.212696\n",
       "sem     0.010259"
      ],
      "text/html": [
       "<div>\n",
       "<style scoped>\n",
       "    .dataframe tbody tr th:only-of-type {\n",
       "        vertical-align: middle;\n",
       "    }\n",
       "\n",
       "    .dataframe tbody tr th {\n",
       "        vertical-align: top;\n",
       "    }\n",
       "\n",
       "    .dataframe thead th {\n",
       "        text-align: right;\n",
       "    }\n",
       "</style>\n",
       "<table border=\"1\" class=\"dataframe\">\n",
       "  <thead>\n",
       "    <tr style=\"text-align: right;\">\n",
       "      <th></th>\n",
       "      <th>prcp</th>\n",
       "    </tr>\n",
       "  </thead>\n",
       "  <tbody>\n",
       "    <tr>\n",
       "      <th>mean</th>\n",
       "      <td>0.177279</td>\n",
       "    </tr>\n",
       "    <tr>\n",
       "      <th>median</th>\n",
       "      <td>0.020000</td>\n",
       "    </tr>\n",
       "    <tr>\n",
       "      <th>std</th>\n",
       "      <td>0.461190</td>\n",
       "    </tr>\n",
       "    <tr>\n",
       "      <th>var</th>\n",
       "      <td>0.212696</td>\n",
       "    </tr>\n",
       "    <tr>\n",
       "      <th>sem</th>\n",
       "      <td>0.010259</td>\n",
       "    </tr>\n",
       "  </tbody>\n",
       "</table>\n",
       "</div>"
      ]
     },
     "metadata": {},
     "execution_count": 19
    }
   ],
   "metadata": {}
  },
  {
   "cell_type": "markdown",
   "source": [
    "# Exploratory Station Analysis"
   ],
   "metadata": {}
  },
  {
   "cell_type": "code",
   "execution_count": 20,
   "source": [
    "# Design a query to calculate the total number stations in the dataset\r\n",
    "station_results = session.query(Station.station, Station.name, Station.id).order_by(Station.id.desc()).all()\r\n",
    "station_results"
   ],
   "outputs": [
    {
     "output_type": "execute_result",
     "data": {
      "text/plain": [
       "[('USC00516128', 'MANOA LYON ARBO 785.2, HI US', 9),\n",
       " ('USC00511918', 'HONOLULU OBSERVATORY 702.2, HI US', 8),\n",
       " ('USC00519281', 'WAIHEE 837.5, HI US', 7),\n",
       " ('USC00519523', 'WAIMANALO EXPERIMENTAL FARM, HI US', 6),\n",
       " ('USC00518838', 'UPPER WAHIAWA 874.3, HI US', 5),\n",
       " ('USC00517948', 'PEARL CITY, HI US', 4),\n",
       " ('USC00514830', 'KUALOA RANCH HEADQUARTERS 886.9, HI US', 3),\n",
       " ('USC00513117', 'KANEOHE 838.1, HI US', 2),\n",
       " ('USC00519397', 'WAIKIKI 717.2, HI US', 1)]"
      ]
     },
     "metadata": {},
     "execution_count": 20
    }
   ],
   "metadata": {}
  },
  {
   "cell_type": "code",
   "execution_count": 21,
   "source": [
    "# Design a query to find the most active stations (i.e. what stations have the most rows?)\r\n",
    "# List the stations and the counts in descending order.\r\n",
    "active_station = session.query(Measurement.station).order_by(Measurement.station.desc())\r\n",
    "active_station = pd.DataFrame(active_station)\r\n",
    "#active_station.count()\r\n",
    "active_station.value_counts()"
   ],
   "outputs": [
    {
     "output_type": "execute_result",
     "data": {
      "text/plain": [
       "USC00519281    2772\n",
       "USC00519397    2724\n",
       "USC00513117    2709\n",
       "USC00519523    2669\n",
       "USC00516128    2612\n",
       "USC00514830    2202\n",
       "USC00511918    1979\n",
       "USC00517948    1372\n",
       "USC00518838     511\n",
       "dtype: int64"
      ]
     },
     "metadata": {},
     "execution_count": 21
    }
   ],
   "metadata": {}
  },
  {
   "cell_type": "code",
   "execution_count": 22,
   "source": [
    "# Using the most active station id from the previous query, calculate the lowest, highest, and average temperature.\r\n",
    "mostest_station = 'USC00519281'\r\n",
    "for_avgs = session.query(Measurement.tobs, Measurement.station, Measurement.prcp, Measurement.date).filter(Measurement.station == 'USC005161281')\r\n",
    "for_avgs = pd.DataFrame(for_avgs, columns=('Temps', 'Station', 'Rainfall','Date'))\r\n",
    "for_avgs.set_index('Station', inplace=True)\r\n",
    "for_avgs.agg({'Temps' : ['mean', 'min', 'max']})"
   ],
   "outputs": [
    {
     "output_type": "execute_result",
     "data": {
      "text/plain": [
       "      Temps\n",
       "mean    NaN\n",
       "min     NaN\n",
       "max     NaN"
      ],
      "text/html": [
       "<div>\n",
       "<style scoped>\n",
       "    .dataframe tbody tr th:only-of-type {\n",
       "        vertical-align: middle;\n",
       "    }\n",
       "\n",
       "    .dataframe tbody tr th {\n",
       "        vertical-align: top;\n",
       "    }\n",
       "\n",
       "    .dataframe thead th {\n",
       "        text-align: right;\n",
       "    }\n",
       "</style>\n",
       "<table border=\"1\" class=\"dataframe\">\n",
       "  <thead>\n",
       "    <tr style=\"text-align: right;\">\n",
       "      <th></th>\n",
       "      <th>Temps</th>\n",
       "    </tr>\n",
       "  </thead>\n",
       "  <tbody>\n",
       "    <tr>\n",
       "      <th>mean</th>\n",
       "      <td>NaN</td>\n",
       "    </tr>\n",
       "    <tr>\n",
       "      <th>min</th>\n",
       "      <td>NaN</td>\n",
       "    </tr>\n",
       "    <tr>\n",
       "      <th>max</th>\n",
       "      <td>NaN</td>\n",
       "    </tr>\n",
       "  </tbody>\n",
       "</table>\n",
       "</div>"
      ]
     },
     "metadata": {},
     "execution_count": 22
    }
   ],
   "metadata": {}
  },
  {
   "cell_type": "code",
   "execution_count": 23,
   "source": [
    "# Using the most active station id\r\n",
    "# Query the last 12 months of temperature observation data for this station and plot the results as a histogram\r\n",
    "historgramything = session.query(Measurement.station, Measurement.tobs, Measurement.date).filter(Measurement.station == 'USC00519281', Measurement.date >= '2016-08-23')\r\n",
    "historgramything = pd.DataFrame(historgramything, columns=('Station', 'Temps', 'Date'))\r\n",
    "historgramything"
   ],
   "outputs": [
    {
     "output_type": "execute_result",
     "data": {
      "text/plain": [
       "         Station  Temps        Date\n",
       "0    USC00519281   77.0  2016-08-23\n",
       "1    USC00519281   77.0  2016-08-24\n",
       "2    USC00519281   80.0  2016-08-25\n",
       "3    USC00519281   80.0  2016-08-26\n",
       "4    USC00519281   75.0  2016-08-27\n",
       "..           ...    ...         ...\n",
       "347  USC00519281   77.0  2017-08-14\n",
       "348  USC00519281   77.0  2017-08-15\n",
       "349  USC00519281   76.0  2017-08-16\n",
       "350  USC00519281   76.0  2017-08-17\n",
       "351  USC00519281   79.0  2017-08-18\n",
       "\n",
       "[352 rows x 3 columns]"
      ],
      "text/html": [
       "<div>\n",
       "<style scoped>\n",
       "    .dataframe tbody tr th:only-of-type {\n",
       "        vertical-align: middle;\n",
       "    }\n",
       "\n",
       "    .dataframe tbody tr th {\n",
       "        vertical-align: top;\n",
       "    }\n",
       "\n",
       "    .dataframe thead th {\n",
       "        text-align: right;\n",
       "    }\n",
       "</style>\n",
       "<table border=\"1\" class=\"dataframe\">\n",
       "  <thead>\n",
       "    <tr style=\"text-align: right;\">\n",
       "      <th></th>\n",
       "      <th>Station</th>\n",
       "      <th>Temps</th>\n",
       "      <th>Date</th>\n",
       "    </tr>\n",
       "  </thead>\n",
       "  <tbody>\n",
       "    <tr>\n",
       "      <th>0</th>\n",
       "      <td>USC00519281</td>\n",
       "      <td>77.0</td>\n",
       "      <td>2016-08-23</td>\n",
       "    </tr>\n",
       "    <tr>\n",
       "      <th>1</th>\n",
       "      <td>USC00519281</td>\n",
       "      <td>77.0</td>\n",
       "      <td>2016-08-24</td>\n",
       "    </tr>\n",
       "    <tr>\n",
       "      <th>2</th>\n",
       "      <td>USC00519281</td>\n",
       "      <td>80.0</td>\n",
       "      <td>2016-08-25</td>\n",
       "    </tr>\n",
       "    <tr>\n",
       "      <th>3</th>\n",
       "      <td>USC00519281</td>\n",
       "      <td>80.0</td>\n",
       "      <td>2016-08-26</td>\n",
       "    </tr>\n",
       "    <tr>\n",
       "      <th>4</th>\n",
       "      <td>USC00519281</td>\n",
       "      <td>75.0</td>\n",
       "      <td>2016-08-27</td>\n",
       "    </tr>\n",
       "    <tr>\n",
       "      <th>...</th>\n",
       "      <td>...</td>\n",
       "      <td>...</td>\n",
       "      <td>...</td>\n",
       "    </tr>\n",
       "    <tr>\n",
       "      <th>347</th>\n",
       "      <td>USC00519281</td>\n",
       "      <td>77.0</td>\n",
       "      <td>2017-08-14</td>\n",
       "    </tr>\n",
       "    <tr>\n",
       "      <th>348</th>\n",
       "      <td>USC00519281</td>\n",
       "      <td>77.0</td>\n",
       "      <td>2017-08-15</td>\n",
       "    </tr>\n",
       "    <tr>\n",
       "      <th>349</th>\n",
       "      <td>USC00519281</td>\n",
       "      <td>76.0</td>\n",
       "      <td>2017-08-16</td>\n",
       "    </tr>\n",
       "    <tr>\n",
       "      <th>350</th>\n",
       "      <td>USC00519281</td>\n",
       "      <td>76.0</td>\n",
       "      <td>2017-08-17</td>\n",
       "    </tr>\n",
       "    <tr>\n",
       "      <th>351</th>\n",
       "      <td>USC00519281</td>\n",
       "      <td>79.0</td>\n",
       "      <td>2017-08-18</td>\n",
       "    </tr>\n",
       "  </tbody>\n",
       "</table>\n",
       "<p>352 rows × 3 columns</p>\n",
       "</div>"
      ]
     },
     "metadata": {},
     "execution_count": 23
    }
   ],
   "metadata": {}
  },
  {
   "cell_type": "code",
   "execution_count": 24,
   "source": [
    "historgramything.plot.hist(bins=12)\r\n",
    "plt.title('Most Recent Temps')\r\n",
    "plt.xlabel('Tempurature')\r\n",
    "plt.ylabel('Frequency')\r\n",
    "plt.tight_layout\r\n",
    "plt.show()"
   ],
   "outputs": [
    {
     "output_type": "display_data",
     "data": {
      "text/plain": [
       "<Figure size 432x288 with 1 Axes>"
      ],
      "image/png": "[encoded data removed]"
     },
     "metadata": {}
    }
   ],
   "metadata": {}
  },
  {
   "cell_type": "markdown",
   "source": [
    "# Close session"
   ],
   "metadata": {}
  },
  {
   "cell_type": "code",
   "execution_count": 25,
   "source": [
    "# Close Session\r\n",
    "session.close()"
   ],
   "outputs": [],
   "metadata": {}
  },
  {
   "cell_type": "code",
   "execution_count": null,
   "source": [],
   "outputs": [],
   "metadata": {}
  }
 ],
 "metadata": {
  "anaconda-cloud": {},
  "kernel_info": {
   "name": "python3"
  },
  "kernelspec": {
   "name": "python3",
   "display_name": "Python 3.8.8 32-bit ('base': conda)"
  },
  "language_info": {
   "codemirror_mode": {
    "name": "ipython",
    "version": 3
   },
   "file_extension": ".py",
   "mimetype": "text/x-python",
   "name": "python",
   "nbconvert_exporter": "python",
   "pygments_lexer": "ipython3",
   "version": "3.8.8"
  },
  "nteract": {
   "version": "0.12.3"
  },
  "varInspector": {
   "cols": {
    "lenName": 16,
    "lenType": 16,
    "lenVar": 40
   },
   "kernels_config": {
    "python": {
     "delete_cmd_postfix": "",
     "delete_cmd_prefix": "del ",
     "library": "var_list.py",
     "varRefreshCmd": "print(var_dic_list())"
    },
    "r": {
     "delete_cmd_postfix": ") ",
     "delete_cmd_prefix": "rm(",
     "library": "var_list.r",
     "varRefreshCmd": "cat(var_dic_list()) "
    }
   },
   "types_to_exclude": [
    "module",
    "function",
    "builtin_function_or_method",
    "instance",
    "_Feature"
   ],
   "window_display": false
  },
  "interpreter": {
   "hash": "6789e5c0a1e4ab3107530c7294f13901bddb27991e4ea1a6417a9a953c743642"
  }
 },
 "nbformat": 4,
 "nbformat_minor": 2
}